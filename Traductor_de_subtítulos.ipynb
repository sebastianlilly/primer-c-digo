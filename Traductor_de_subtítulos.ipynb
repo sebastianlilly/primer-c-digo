{
  "nbformat": 4,
  "nbformat_minor": 0,
  "metadata": {
    "colab": {
      "provenance": []
    },
    "kernelspec": {
      "name": "python3",
      "display_name": "Python 3"
    },
    "language_info": {
      "name": "python"
    }
  },
  "cells": [
    {
      "cell_type": "code",
      "execution_count": null,
      "metadata": {
        "id": "7k4Vj7Z3uc4K"
      },
      "outputs": [],
      "source": [
        "# Instalar googletrans\n",
        "pip install googletrans==4.0.0-rc1\n"
      ]
    },
    {
      "cell_type": "code",
      "source": [
        "from googletrans import Translator\n",
        "from google.colab import files\n",
        "import time\n",
        "import pickle\n",
        "import os\n",
        "\n",
        "# Subir el archivo a Colab\n",
        "uploaded = files.upload()\n",
        "\n",
        "# Obtener el nombre del archivo subido\n",
        "file_path = list(uploaded.keys())[0]\n",
        "file_name, file_extension = os.path.splitext(file_path)\n",
        "\n",
        "# Leer el contenido del archivo original\n",
        "with open(file_path, 'r', encoding='utf-8') as file:\n",
        "    srt_content = file.read()\n",
        "\n",
        "# Inicializar el traductor\n",
        "translator = Translator()\n",
        "\n",
        "# Dividir el contenido en bloques de subtítulos\n",
        "srt_blocks = srt_content.split('\\n\\n')\n",
        "\n",
        "# Cargar progreso previo si existe\n",
        "progress_file = f'{file_name}_progress.pkl'\n",
        "try:\n",
        "    with open(progress_file, 'rb') as pf:\n",
        "        translated_blocks = pickle.load(pf)\n",
        "        start_index = len(translated_blocks)\n",
        "        print(f\"Continuando desde el bloque {start_index + 1}\")\n",
        "except FileNotFoundError:\n",
        "    translated_blocks = []\n",
        "    start_index = 0\n",
        "\n",
        "# Función para traducir un bloque de subtítulo\n",
        "def translate_block(block):\n",
        "    lines = block.split('\\n')\n",
        "    if len(lines) > 2:\n",
        "        translated_lines = [lines[0], lines[1]]\n",
        "        for line in lines[2:]:\n",
        "            try:\n",
        "                translated = translator.translate(line, src='en', dest='es')\n",
        "                if translated and translated.text:\n",
        "                    translated_lines.append(translated.text)\n",
        "                else:\n",
        "                    raise ValueError(\"Respuesta de traducción inválida o vacía\")\n",
        "            except Exception as e:\n",
        "                print(f\"Error al traducir la línea: {line}\\n{e}\")\n",
        "                translated_lines.append(line)  # Mantén la línea original en caso de error\n",
        "        return '\\n'.join(translated_lines)\n",
        "    else:\n",
        "        return block\n",
        "\n",
        "# Traducir cada bloque\n",
        "for i in range(start_index, len(srt_blocks)):\n",
        "    try:\n",
        "        translated_blocks.append(translate_block(srt_blocks[i]))\n",
        "        # Guardar progreso después de cada bloque\n",
        "        with open(progress_file, 'wb') as pf:\n",
        "            pickle.dump(translated_blocks, pf)\n",
        "        # Pausar para evitar la sobrecarga de la API\n",
        "        time.sleep(1)\n",
        "    except Exception as e:\n",
        "        print(f\"Error al traducir el bloque {i + 1}: {srt_blocks[i]}\\n{e}\")\n",
        "        translated_blocks.append(srt_blocks[i])\n",
        "\n",
        "# Combinar los bloques traducidos en una sola cadena\n",
        "translated_srt_content = '\\n\\n'.join(translated_blocks)\n",
        "\n",
        "# Guardar el contenido traducido en un nuevo archivo\n",
        "translated_file_path = f'{file_name}_Spanish{file_extension}'\n",
        "with open(translated_file_path, 'w', encoding='utf-8') as file:\n",
        "    file.write(translated_srt_content)\n",
        "\n",
        "print(f'Archivo traducido guardado en: {translated_file_path}')\n",
        "files.download(translated_file_path)\n",
        "\n",
        "# Eliminar archivo de progreso\n",
        "os.remove(progress_file)\n",
        "\n"
      ],
      "metadata": {
        "id": "4XUE7vRFnHSx"
      },
      "execution_count": null,
      "outputs": []
    }
  ]
}