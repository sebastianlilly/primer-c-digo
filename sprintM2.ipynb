{
  "nbformat": 4,
  "nbformat_minor": 0,
  "metadata": {
    "colab": {
      "provenance": [],
      "include_colab_link": true
    },
    "kernelspec": {
      "name": "python3",
      "display_name": "Python 3"
    },
    "language_info": {
      "name": "python"
    }
  },
  "cells": [
    {
      "cell_type": "markdown",
      "metadata": {
        "id": "view-in-github",
        "colab_type": "text"
      },
      "source": [
        "<a href=\"https://colab.research.google.com/github/sebastianlilly/primer-c-digo/blob/main/sprintM2.ipynb\" target=\"_parent\"><img src=\"https://colab.research.google.com/assets/colab-badge.svg\" alt=\"Open In Colab\"/></a>"
      ]
    },
    {
      "cell_type": "markdown",
      "source": [
        "# **Librerías**"
      ],
      "metadata": {
        "id": "43TBcyXAAgf8"
      }
    },
    {
      "cell_type": "code",
      "execution_count": null,
      "metadata": {
        "id": "SNfgsIX7_3t5"
      },
      "outputs": [],
      "source": [
        "import pandas as pd\n",
        "from datetime import datetime\n",
        "\n",
        "#definir el nombre de los aqrchivos\n",
        "archivo_productos = 'productos.csv'#se usa para almacenar en una variable llamada archivo_productos el nombre de un archivo CSV, en este caso productos.csv\n",
        "archivo_facturas = 'facturas.csv'#se usa para almacenar en una variable llamada archivo_facturas el nombre de un archivo CSV, en este caso facturas.csv\n",
        "archivo_resumen = 'resumen.csv'#se usa para almacenar en una variable llamada archivo_resumen el nombre de un archivo CSV, en este caso resumen.csv\n",
        "archivo_detalle = 'detalle.csv'#se usa para almacenar en una variable llamada archivo_detalle el nombre de un archivo CSV, en este caso detalle.csv\n",
        "\n"
      ]
    },
    {
      "cell_type": "markdown",
      "source": [
        "### Carga de archivos existentes o creación de ellos\n",
        "\n",
        "\n"
      ],
      "metadata": {
        "id": "eIoEw227Aoo5"
      }
    },
    {
      "cell_type": "code",
      "source": [
        "\n",
        "try: #se usa para leer un archivo CSV que contiene datos sobre productos y cargar estos datos en un DataFrame\n",
        "  df_productos = pd.read_csv(archivo_productos) #Se lee el archivo productos.csv y asigana al DataFrame df_productos\n",
        "except FileNotFoundError:#Se maneja una excepción de tipo FileNotFoundError, que es lanzada cuando un archivo que se intenta abrir no existe en el sistema\n",
        "  df_productos = pd.DataFrame(columns=['Nombre','Precio'])# Se crea un DataFrame vacío llamado df_productos con dos columnas llamadas \"Nombre\" y \"Precio\"\n",
        "\n",
        "try:\n",
        "   df_facturas = pd.read_csv(archivo_facturas) #Se lee un archivo CSV que contiene información sobre facturas y lo guarda en un DataFrame llamado df_facturas\n",
        "except FileNotFoundError: #Se maneja una excepción de tipo FileNotFoundError, que es lanzada cuando un archivo que se intenta abrir no existe en el sistema\n",
        "   df_facturas = pd.DataFrame(columns=['Cliente','Fecha','Productos'])  #Se crea un DataFrame vacío llamado df_productos con dos columnas llamadas \"Cliente\" y \"Fecha\" \"Productos\"\n"
      ],
      "metadata": {
        "id": "GiLzJ6RtA2zL"
      },
      "execution_count": null,
      "outputs": []
    },
    {
      "cell_type": "markdown",
      "source": [
        "a) Ingresar producto:\n",
        "Debe ingresarse el nombre y el precio del producto. Tendrá un sub menú: nuevo producto, guardar archivo o volver."
      ],
      "metadata": {
        "id": "_83XhBPdQXRG"
      }
    },
    {
      "cell_type": "code",
      "source": [
        "def ingresar_producto():#Se define una función llamada ingresar_producto que permite al usuario ingresar un nuevo producto\n",
        "    global df_productos #Se crea una variable llamada df_productos que almacena un DataFrame con información sobre productos\n",
        "    nombre = input(\"Ingrese el nombre del producto \") #Se solicita al usuario que ingrese el nombre de un producto a través de la consola y almacena esa entrada en la variable \"nombre\".\n",
        "\n",
        "    while True:  # Se crea un bloque infinito\n",
        "      precio_input = input(\"Ingrese el precio del producto \") # Se pide al usuario que ingrese el precio de un producto\n",
        "      try:\n",
        "          precio = float(precio_input) #Se solicita al usuario que ingrese  un numero decimal\n",
        "          break # Si es correcto hace un quiebre y sale del ciclo infinito\n",
        "      except ValueError:\n",
        "          print(\"Error: Ingrese un valor numérico válido\") #Se imprime un mensaje de error  y se solicita al usuario  que ingrese el valor nuevamente\n",
        "\n",
        "    nuevo_producto = pd.DataFrame({'Nombre': [nombre], 'Precio': [precio]})# Se crea un nuevo DataFrame llamado nuevo_producto con dos columnas \"Nombre\" y \"Precio\"\n",
        "    df_productos = pd.concat([df_productos, nuevo_producto], ignore_index=True)# Se concatena el DataFrame nuevo_producto al final del DataFrame df_productos y ignore_index=True significa que se\n",
        "                                                                               # reindexará  el nuevo dataFrame resultante para que los indices vayan en orden consecutivo\n",
        "    print(\"Producto ingresado correctamente\")\n",
        "\n"
      ],
      "metadata": {
        "id": "PQ4mW8F3DDzA"
      },
      "execution_count": null,
      "outputs": []
    },
    {
      "cell_type": "markdown",
      "source": [
        "### `Ingresar Factura\n",
        "debe ingresar el nombre del cliente, luego deberá generar un submenú: ingresar producto, guardar  y salir. Los productos se ingresan con nomobre y precio. La factura además debe guardar la fecha y hora actual de la venta`"
      ],
      "metadata": {
        "id": "pebH54ZmCsh4"
      }
    },
    {
      "cell_type": "code",
      "source": [
        "def ingresar_factura(): #Se define una función llamada ingresar_factura que permite al usuario ingresar una nueva factura\n",
        "    global df_facturas ##Se crea una variable llamada df_facturas que almacena un DataFrame con información sobre facturas\n",
        "    cliente = input(\"Ingrese el nombre del cliente: \")#Se solicita al usuario que ingrese el nombre del cliente  y se asigna a la variable cliente\n",
        "    fecha = datetime.now().strftime('%Y-%m-%d %H:%M:%S')#Se obtiene la fecha actual\n",
        "    productos_factura =[] #Se crea una lista vacia llamada  productos_factura\n",
        "    while True: # Se crea un bloque infinito\n",
        "      nombre_producto = input(\"Ingrese el nombre del producto (o 'q' para salir): \")#Se pide al usuario que ingrese el nombre de un producto, y se le solicita ingresar una q para salir del while\n",
        "      if nombre_producto.lower() == 'q'#Si la variable nombre_producto es una q mayuscula la funcion lower la trasforma en minuscula y si es verdadero se roduce el quiebre con el breack\n",
        "          break # se pruduce el quiebre y sale del ciclo while\n",
        "      productos_factura.append(nombre_producto)# Se agrega la variable nombre_producto a la lista productos_factura, para ello se usa la funcion append\n",
        "\n",
        "    nueva_factura = pd.DataFrame({'Cliente': [cliente], 'Fecha': [fecha], 'Productos': [productos_factura]}) # Se crea un nuevo DataFrame llamado nueva_factura con tres columnas \"Cliente\", \"Fecha\" y \"Productos\"\n",
        "    df_facturas = pd.concat([df_facturas, nueva_factura], ignore_index = True) # Se concatena el DataFrame nuevo_producto al final del DataFrame df_productos y ignore_index=True significa que se reindexará\n",
        "                                                                               # el nuevo dataFrame resultante para que los indices vayan en orden consecutivo\n",
        "    print(\"Factura ingresada correctamente. \")"
      ],
      "metadata": {
        "id": "tzIf0BWtJebt"
      },
      "execution_count": null,
      "outputs": []
    },
    {
      "cell_type": "markdown",
      "source": [
        "### c) Ver Resumen:\n",
        "en esta opción se debe despleglar: Cantidad de ventas y monto tal vendido. Opción de guardar resumen  ( intresando nombre del archuivo)\n"
      ],
      "metadata": {
        "id": "sdqrP3xDw79k"
      }
    },
    {
      "cell_type": "code",
      "source": [
        "def ver_resumen(): #Se define una función llamada ver_resumen que permite al usuario hacer un resumen de las ventas por producto\n",
        "  global df_facturas, df_productos #Se crea una variable llamada df_facturas y  df_productos que almacena un DataFrame con información sobre facturas y productos\n",
        "  cantidad_ventas = len(df_facturas)#Se usa para contar la cantidad de ventas que se han registrado en un dataframe llamado df_facturas, devuelve el numero de filas\n",
        "  monto_total_vendido = df_facturas.apply(lambda row: sum(df_productos[df_productos['Nombre'].isin(row['Productos'])]['Precio']), axis=1).sum() #Se utiliza para calcular el monto total vendido en todas las facturas presentes en un DataFrame llamado df_facturas.\n",
        "                                                                                                                                                #calcula el monto total vendido en todas las facturas basándose en la información de los productos y sus precios en los DataFrames df_facturas y df_productos\n",
        "  print(f\"\\nResumen:\")\n",
        "  print(f\"Cantidad de Ventas: {cantidad_ventas}\")\n",
        "  print(f\"Monto total vendido: {monto_total_vendido}\")\n",
        "\n",
        "  opcion_guardar =input(\"¿Desea guardar el resumen? (s/n): \")# Se utiliza para capturar la respuesta del usuario respecto a si desea guardar el resumen mostrado\n",
        "  if opcion_guardar.lower() == 's':#Se utiliza para verificar si la variable opcion_guardar contiene la letra 's' en minúscula. Si es así, se cumple la condición y se ejecuta el bloque de código correspondiente\n",
        "     archivo_guardar = input(\"Ingrese el nombre del archivo para guardar el resumen: \") # Se utiliza para solicitar al usuario que ingrese el nombre del archivo en el que se desea guardar un resumen, y se almacena en la variable archivo_guardar\n",
        "     df_resumen = pd.DataFrame({'Cantidad_ventas' : [cantidad_ventas], 'Monto_Total_Vendido' :[monto_total_vendido]})\n",
        "     df_resumen.to_csv(archivo_guardar + '.csv', index=False) #Se utiliza para guardar los datos contenidos en un DataFrame en un archivo CSV en la ubicación especificada por la variable archivo_guardar\n",
        "     print(f\"Resumen guardado en {archivo_guardar}.csv\")#Se usa para imprimir un mensaje en la consola indicando el nombre del archivo en el que se ha guardado un resumen en formato CSV\n"
      ],
      "metadata": {
        "id": "Y2Rqn8lXxTWM"
      },
      "execution_count": null,
      "outputs": []
    },
    {
      "cell_type": "markdown",
      "source": [
        "### d) Ver detalle\n",
        "se deben teber las copciones desplegar: ventas por usuario, ventas por producto, ventas diarias, guardar vista (inresando el nombre del archivo)."
      ],
      "metadata": {
        "id": "RJnfCk8J0fs4"
      }
    },
    {
      "cell_type": "code",
      "source": [
        "def ver_detalle():# Se define la funcion  ver_detalle muestra un menú de opciones al usuario para que seleccione un tipo de detalle que desea visualizar\n",
        "    global df_facturas\n",
        "    print(\"\\nDetalle: \")\n",
        "    print(\"1. Ventas por usuario\")\n",
        "    print(\"2: Ventas por producto\")\n",
        "    print(\"3. Ventas diarias\")\n",
        "    print(\"4. Volver\")\n",
        "\n",
        "    opcion_detalle = input(\"Seleccione una opción: \")#Se utiliza para solicitar al usuario que seleccione una opción del menú, puede ser 1,2,3,4\n",
        "\n",
        "    if opcion_detalle == '1':#La variable opcion_detalle se compara con el valor '1'\n",
        "        ventas_usuario = df_facturas.groupby('Cliente').size().reset_index(name='Cantidad_Ventas')# Se usa para contar la cantidad de ventas realizadas por cada cliente en un DataFrame llamado df_facturas que contiene información de facturas\n",
        "        print(ventas_usuario)\n",
        "    elif opcion_detalle == '2':#La variable opcion_detalle se compara con el valor '2'\n",
        "        ventas_producto = df_facturas.explode('Productos') # Se utiliza para mostrar las ventas de cada producto en el DataFrame df_facturas, se desglosan los productos\n",
        "        ventas_producto = ventas_producto.groupby('Productos').size().reset_index(name='Cantidad_Ventas')#Se agrupan los productos  y se calcula el número de ventas para cada uno\n",
        "        print (ventas_producto)#Se imprime la cantidad de ventas de cada producto\n",
        "    elif opcion_detalle == '3':#La variable opcion_detalle se compara con el valor '3'\n",
        "        ventas_diarias = df_facturas.groupby(df_facturas['Fecha'].str.split('').str[0]).size().reset_index(name='Cantidad_Ventas')\n",
        "        print(ventas_diarias)\n",
        "    elif opcion_detalle =='4':#La variable opcion_detalle se compara con el valor '4'\n",
        "        return #Retorna a la linea del menu principal donde fue invocada la funcion ver_detalle\n",
        "\n",
        "    opcion_guardar = input(\"¿Desea guardar la vista (s/n): \")#Se utiliza para capturar la respuesta del usuario respecto a si desea guardar el resumen mostrado\n",
        "    if opcion_guardar.lower() == 's':#idem comentario menú anterior\n",
        "      archivo_guardar = input(\"Ingrese el nomre del archivo para guardar la vista: \")\n",
        "      if opcion_detalle == '1':\n",
        "          ventas_usuario.to_csv(archivo_guardar + '.csv', index=False)\n",
        "      elif opcion_detalle == '2':\n",
        "          ventas_producto.to_csv(archivo_guardar + '.csv', index=False)\n",
        "      elif opcion_detalle == '3':\n",
        "          ventas_diarias.to_csv(archivo_guardar + '.csv', index=False)\n",
        "      print(f\"Vista guardada en {archivo_guardar}'.csv')\n"
      ],
      "metadata": {
        "id": "JMrlT9uu0x1B"
      },
      "execution_count": null,
      "outputs": []
    },
    {
      "cell_type": "markdown",
      "source": [
        "### Borar datos\n",
        "elimina los archivos guardados (elegir productos, facturas, todos o volver)\n"
      ],
      "metadata": {
        "id": "8CCw468Z7ECT"
      }
    },
    {
      "cell_type": "code",
      "source": [
        "def borrar_datos():# Se define la funcion  borrar_datos  muestra un menú de opciones al usuario para que seleccione un tipo de borrar_datos de df_productos, df_facturas\n",
        "    global df_productos, df_facturas\n",
        "    print(\"\\nBorrar datos: \")\n",
        "    print(\"1. Borrar productos\")\n",
        "    print(\"2. Borrar facturas\")\n",
        "    print(\"3. Borrar todos los datos\")\n",
        "    print(\"4. Volver\")\n",
        "#comentarios idem menu anterior\n",
        "    opcion_borrar = input(\" Seleccione una opciíon: \")\n",
        "    if opcion_borrar == '1':\n",
        "        df_productos = pd.DataFrame(columns=['Nombre', 'Precio'])\n",
        "        df_productos.to_csv(archivo_productos, index=False)\n",
        "        print(\"Datos de los productos borrados.\")\n",
        "    elif opcion_borrar == '2':\n",
        "        df_facturas = pd.DataFrame(columns=['Cliente', 'Fecha', 'Productos'])\n",
        "        df_facturas.to_csv(archivo_facturas, index=False)\n",
        "        print(\"Datos de las facturas borrados.\")\n",
        "    elif opcion_borrar == '3':\n",
        "        df_productos = pd.DataFrame(columns=['Nombre', 'Precio'])\n",
        "        df_facturas = pd.DataFrame(columns=['Cliente', 'Fecha', 'Productos'])\n",
        "        print(\"Todos los datos han sido borrados.\")\n",
        "    elif opcion_borrar == '4':\n",
        "        return"
      ],
      "metadata": {
        "id": "Dc13a5ZW7Ty2"
      },
      "execution_count": null,
      "outputs": []
    },
    {
      "cell_type": "markdown",
      "source": [
        "### f) Salir\n",
        "terminar la ejecución del programa cabe señalar , que, si los archivos ya existen, entonces deben ser cargados al inicio"
      ],
      "metadata": {
        "id": "dqbl7VMkH9eM"
      }
    },
    {
      "cell_type": "code",
      "source": [
        "def main():# Se define la funcion  main  muestra un menú principal  de opciones al usuario para que seleccione un tipo\n",
        "    global df_productos, df_facturas\n",
        "    while True:\n",
        "      print(\"\\nSistema de facturación y bodega\")\n",
        "      print(\"\\nMenú Principal: \")\n",
        "      print(\"\\na. Ingresar productos\\nb. Ingresar factura\\nc. Ver\\nd. Ver resumen\\nd. Ver detalle\\ne. Borrar datos\\nf.Salir\")\n",
        "      opcion = input(\"\\nSeleccione una opción: \").lower()\n",
        "\n",
        "      if opcion == 'a':\n",
        "          ingresar_producto()\n",
        "      elif opcion == 'b':\n",
        "          ingresar_factura()\n",
        "      elif opcion == 'c':\n",
        "          ver_resumen()\n",
        "      elif opcion == 'd':\n",
        "          ver_detalle()\n",
        "      elif opcion == 'e':\n",
        "          borrar_datos()\n",
        "      elif opcion == 'f':\n",
        "          print(\"Saliendo\")\n",
        "          break\n",
        "      else:\n",
        "          print(\"Opción no válida. Inténtelo de nuevo. \")\n",
        "\n",
        "if __name__ == \"__main__\":\n",
        "   main()"
      ],
      "metadata": {
        "id": "faiIX-1DH3t2",
        "colab": {
          "base_uri": "https://localhost:8080/"
        },
        "outputId": "a48fd227-125d-4afa-9bad-a9c7b0e5fcce"
      },
      "execution_count": null,
      "outputs": [
        {
          "metadata": {
            "tags": null
          },
          "name": "stdout",
          "output_type": "stream",
          "text": [
            "\n",
            "Sistema de facturación y bodega\n",
            "\n",
            "Menú Principal: \n",
            "\n",
            "a. Ingresar productos\n",
            "b. Ingresar factura\n",
            "c. Ver\n",
            "d. Ver resumen\n",
            "d. Ver detalle\n",
            "e. Borrar datos\n",
            "f.Salir\n",
            "Producto ingresado correctamente\n",
            "\n",
            "Sistema de facturación y bodega\n",
            "\n",
            "Menú Principal: \n",
            "\n",
            "a. Ingresar productos\n",
            "b. Ingresar factura\n",
            "c. Ver\n",
            "d. Ver resumen\n",
            "d. Ver detalle\n",
            "e. Borrar datos\n",
            "f.Salir\n",
            "\n",
            "Resumen:\n",
            "Cantidad de Ventas: 0\n",
            "Monto total vendido: Cliente      0.0\n",
            "Fecha        0.0\n",
            "Productos    0.0\n",
            "dtype: float64\n",
            "\n",
            "Sistema de facturación y bodega\n",
            "\n",
            "Menú Principal: \n",
            "\n",
            "a. Ingresar productos\n",
            "b. Ingresar factura\n",
            "c. Ver\n",
            "d. Ver resumen\n",
            "d. Ver detalle\n",
            "e. Borrar datos\n",
            "f.Salir\n",
            "Producto ingresado correctamente\n",
            "\n",
            "Sistema de facturación y bodega\n",
            "\n",
            "Menú Principal: \n",
            "\n",
            "a. Ingresar productos\n",
            "b. Ingresar factura\n",
            "c. Ver\n",
            "d. Ver resumen\n",
            "d. Ver detalle\n",
            "e. Borrar datos\n",
            "f.Salir\n",
            "Producto ingresado correctamente\n",
            "\n",
            "Sistema de facturación y bodega\n",
            "\n",
            "Menú Principal: \n",
            "\n",
            "a. Ingresar productos\n",
            "b. Ingresar factura\n",
            "c. Ver\n",
            "d. Ver resumen\n",
            "d. Ver detalle\n",
            "e. Borrar datos\n",
            "f.Salir\n",
            "Producto ingresado correctamente\n",
            "\n",
            "Sistema de facturación y bodega\n",
            "\n",
            "Menú Principal: \n",
            "\n",
            "a. Ingresar productos\n",
            "b. Ingresar factura\n",
            "c. Ver\n",
            "d. Ver resumen\n",
            "d. Ver detalle\n",
            "e. Borrar datos\n",
            "f.Salir\n",
            "Factura ingresada correctamente. \n",
            "\n",
            "Sistema de facturación y bodega\n",
            "\n",
            "Menú Principal: \n",
            "\n",
            "a. Ingresar productos\n",
            "b. Ingresar factura\n",
            "c. Ver\n",
            "d. Ver resumen\n",
            "d. Ver detalle\n",
            "e. Borrar datos\n",
            "f.Salir\n",
            "\n",
            "Resumen:\n",
            "Cantidad de Ventas: 1\n",
            "Monto total vendido: 4500.0\n",
            "Resumen guardado en resumen.csv\n",
            "\n",
            "Sistema de facturación y bodega\n",
            "\n",
            "Menú Principal: \n",
            "\n",
            "a. Ingresar productos\n",
            "b. Ingresar factura\n",
            "c. Ver\n",
            "d. Ver resumen\n",
            "d. Ver detalle\n",
            "e. Borrar datos\n",
            "f.Salir\n",
            "\n",
            "Detalle: \n",
            "1. Ventas por usuario\n",
            "2: Ventas por producto\n",
            "3. Ventas diarias\n",
            "4. Volver\n",
            "  Productos  Cantidad_Ventas\n",
            "0    Azucar                1\n",
            "1   Merquen                1\n",
            "2   Porotos                1\n",
            "Vista guardada en detalle.csv\n",
            "\n",
            "Sistema de facturación y bodega\n",
            "\n",
            "Menú Principal: \n",
            "\n",
            "a. Ingresar productos\n",
            "b. Ingresar factura\n",
            "c. Ver\n",
            "d. Ver resumen\n",
            "d. Ver detalle\n",
            "e. Borrar datos\n",
            "f.Salir\n"
          ]
        }
      ]
    }
  ]
}